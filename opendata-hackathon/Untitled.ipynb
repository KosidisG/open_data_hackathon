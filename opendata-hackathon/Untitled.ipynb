{
 "cells": [
  {
   "cell_type": "code",
   "execution_count": 13,
   "metadata": {},
   "outputs": [],
   "source": [
    "import requests\n",
    "import xml.etree.ElementTree as ET\n",
    "\n",
    "r = requests.get(\"http://178.62.245.17/air/airquality.php\")\n",
    "\n",
    "\n",
    "xmparsed = ET.fromstring(r.text)"
   ]
  },
  {
   "cell_type": "code",
   "execution_count": 404,
   "metadata": {},
   "outputs": [],
   "source": [
    "import pandas as pd\n",
    "\n",
    "data = []\n",
    "for i in xmparsed[1]:\n",
    "    row = []\n",
    "    for j in i[:3]:\n",
    "        row.append(j.text)\n",
    "    data.append(row)\n",
    "\n",
    "map_dict ={2: {'name': 'NO2', 'thresholds': [100, 150, 200]},\n",
    " 4: {'name': 'SO2', 'thresholds': [150, 250, 350]},\n",
    " 5: {'name': 'O3', 'thresholds': [100, 140, 180]},\n",
    " 6: {'name': 'CO', 'thresholds': [7000, 15000, 20000]},\n",
    " 25: {'name': 'PM10', 'thresholds': [50, 100, 200]},\n",
    " 26: {'name': 'PM2.5', 'thresholds': [25, 50, 100]},\n",
    " 45: {'name': 'C6H6', 'thresholds': [5, 10, 15]}}\n",
    "\n",
    "def get_level(pol_id, value, mapings):\n",
    "    thresh = mapings[pol_id][\"thresholds\"]\n",
    "    \n",
    "    lvl = 0\n",
    "    \n",
    "    for i in thresh:\n",
    "        if value > i:\n",
    "            \n",
    "            lvl+=1\n",
    "\n",
    "    return(lvl+1)\n",
    "\n",
    "pollution_data = {}\n",
    "\n",
    "for count, row in enumerate(data):\n",
    "    if row[0] not in pollution_data:\n",
    "        pollution_data[row[0]] = {}\n",
    "    \n",
    "    if int(row[1]) in map_dict:\n",
    "#         print(row)\n",
    "#         row = row.append(get_level(int(row[1]), float(row[2]), map_dict))\n",
    "        pollution_data[row[0]][row[1]] =get_level(int(row[1]), float(row[2]), map_dict)\n",
    "\n",
    "pollution_indicator = {}\n",
    "\n",
    "\n",
    "for key, mappings in pollution_data.items():\n",
    "    \n",
    "    cumul = 0\n",
    "    maximum = 0\n",
    "    count = 0\n",
    "\n",
    "    for d, value in mappings.items():\n",
    "#         print(maximum)\n",
    "        count +=1\n",
    "        cumul += int(value)\n",
    "#         print(value)\n",
    "        maximum = max(maximum, value)\n",
    "\n",
    "    indicator = maximum\n",
    "\n",
    "    ar_mean = cumul/count\n",
    "    \n",
    "    indicator_2 = 0\n",
    "    if ar_mean > float(3):\n",
    "        indicator_2 = 4\n",
    "\n",
    "    pollution_indicator[key] = max(indicator, indicator_2)\n"
   ]
  },
  {
   "cell_type": "code",
   "execution_count": 405,
   "metadata": {},
   "outputs": [
    {
     "data": {
      "text/plain": [
       "{'1': 1,\n",
       " '10': 2,\n",
       " '11': 1,\n",
       " '12': 1,\n",
       " '13': 1,\n",
       " '14': 2,\n",
       " '15': 2,\n",
       " '16': 1,\n",
       " '2': 2,\n",
       " '3': 1,\n",
       " '4': 1,\n",
       " '5': 2,\n",
       " '6': 1,\n",
       " '7': 1,\n",
       " '8': 2,\n",
       " '9': 4}"
      ]
     },
     "execution_count": 405,
     "metadata": {},
     "output_type": "execute_result"
    }
   ],
   "source": [
    "pollution_indicator\n",
    "    "
   ]
  },
  {
   "cell_type": "code",
   "execution_count": 370,
   "metadata": {},
   "outputs": [
    {
     "data": {
      "text/plain": [
       "{'1': {'2': 1, '25': 1, '26': 1, '4': 1, '45': 1, '5': 1, '6': 1},\n",
       " '10': {'2': 1, '5': 2},\n",
       " '11': {'2': 1, '5': 1},\n",
       " '12': {'5': 1},\n",
       " '13': {'2': 1, '5': 1},\n",
       " '14': {'2': 1, '4': 1, '45': 1, '5': 2, '6': 1},\n",
       " '15': {'2': 1, '25': 1, '4': 1, '45': 1, '5': 2, '6': 1},\n",
       " '16': {'2': 1, '25': 1, '26': 1, '4': 1, '5': 1, '6': 1},\n",
       " '2': {'2': 1, '4': 1, '5': 2, '6': 1},\n",
       " '3': {'2': 1, '25': 1, '4': 1, '5': 1, '6': 1},\n",
       " '4': {'2': 1, '5': 1, '6': 1},\n",
       " '5': {'2': 1, '25': 1, '26': 1, '4': 1, '45': 1, '5': 2, '6': 1},\n",
       " '6': {'2': 1, '4': 1, '5': 1, '6': 1},\n",
       " '7': {'2': 1, '25': 1, '4': 1, '45': 1, '5': 1, '6': 1},\n",
       " '8': {'2': 1, '25': 1, '26': 1, '4': 1, '45': 1, '5': 2},\n",
       " '9': {'2': 1, '25': 1, '26': 1, '4': 1, '45': 1, '5': 2, '6': 4}}"
      ]
     },
     "execution_count": 370,
     "metadata": {},
     "output_type": "execute_result"
    }
   ],
   "source": [
    "pollution_data"
   ]
  },
  {
   "cell_type": "code",
   "execution_count": 43,
   "metadata": {},
   "outputs": [],
   "source": [
    "keys_as_str = \"\"\"NO Μονοξείδιο Αζώτου [μg/m³] (id=1)\n",
    "NO2 Διοξείδιο Αζώτου [μg/m³] (id=2)\n",
    "NOx Οξείδια του Αζώτου [μg/m³] (id=3)\n",
    "SO2 Διοξείδιο Θείου [μg/m³] (id=4)\n",
    "O3 Όζον [μg/m³] (id=5)\n",
    "CO Μονοξείδιο 'Ανθρακα [μg/m³] (id=6)\n",
    "PM10 Σωματίδια 10 μm [μg/m³] (id=25)\n",
    "PM2.5 Σωματίδια 2.5 μm [μg/m³] (id=26)\n",
    "C6H6 Βενζόλιο [μg/m³] (id=45)\"\"\""
   ]
  },
  {
   "cell_type": "code",
   "execution_count": 49,
   "metadata": {},
   "outputs": [],
   "source": [
    "outer_list_transform = keys_as_str.split(\"\\n\")\n",
    "\n",
    "pollutants_map = {}\n",
    "for i in outer_list_transform:\n",
    "    as_array = i.split(\" \")\n",
    "    station_id = as_array[-1].replace(\"(id=\", \"\").replace(\")\", \"\")\n",
    "    pollutant_name = as_array[0]\n",
    "    pollutants_map[station_id] = pollutant_name"
   ]
  },
  {
   "cell_type": "code",
   "execution_count": 52,
   "metadata": {},
   "outputs": [],
   "source": [
    "# pd.DataFrame.from_dict(pollutants_map, orient=\"index\").to_csv(\"pollutant_id_map.csv\")"
   ]
  },
  {
   "cell_type": "code",
   "execution_count": 54,
   "metadata": {},
   "outputs": [
    {
     "data": {
      "text/plain": [
       "{'1': 'NO',\n",
       " '2': 'NO2',\n",
       " '25': 'PM10',\n",
       " '26': 'PM2.5',\n",
       " '3': 'NOx',\n",
       " '4': 'SO2',\n",
       " '45': 'C6H6',\n",
       " '5': 'O3',\n",
       " '6': 'CO'}"
      ]
     },
     "execution_count": 54,
     "metadata": {},
     "output_type": "execute_result"
    }
   ],
   "source": [
    "for key in pollutants_map:\n",
    "    pollutants_map[key] = {pollutants_map[key], []}"
   ]
  },
  {
   "cell_type": "code",
   "execution_count": 58,
   "metadata": {},
   "outputs": [],
   "source": [
    "sdf = pd.read_clipboard()"
   ]
  },
  {
   "cell_type": "code",
   "execution_count": 61,
   "metadata": {},
   "outputs": [],
   "source": [
    "sdf.to_csv(\"pollutant_scale.csv\")"
   ]
  },
  {
   "cell_type": "code",
   "execution_count": 77,
   "metadata": {
    "scrolled": true
   },
   "outputs": [],
   "source": [
    "# sdf = sdf.set_index(\"Pollutant\")\n",
    "for j, col in enumerate(sdf):\n",
    "        if j<5:\n",
    "        sdf[j] = sdf[col].apply(lambda x: str(x).split(\"-\")[-1])"
   ]
  },
  {
   "cell_type": "code",
   "execution_count": 80,
   "metadata": {},
   "outputs": [],
   "source": [
    "sdf = pd.DataFrame(sdf[[0,1,2,3,4]])"
   ]
  },
  {
   "cell_type": "code",
   "execution_count": 91,
   "metadata": {},
   "outputs": [],
   "source": [
    "mod_pol = {k: pollutants_map[k] for k in pollutants_map if k!=\"1\" }"
   ]
  },
  {
   "cell_type": "code",
   "execution_count": 103,
   "metadata": {},
   "outputs": [],
   "source": [
    "mod_pol = {v:k for k, v in mod_pol.items()}\n",
    "sdf[\"id\"] = list(map(lambda x: mod_pol[x], sdf.index))"
   ]
  },
  {
   "cell_type": "code",
   "execution_count": 108,
   "metadata": {},
   "outputs": [],
   "source": [
    "sdf[\"name\"] = sdf.index\n",
    "sdf = sdf.set_index(\"id\")"
   ]
  },
  {
   "cell_type": "code",
   "execution_count": 123,
   "metadata": {},
   "outputs": [],
   "source": [
    "sdf = pd.read_csv(\"thresholds.csv\")"
   ]
  },
  {
   "cell_type": "code",
   "execution_count": null,
   "metadata": {},
   "outputs": [],
   "source": [
    "def assign_pol_level(pollutant_id, level):\n",
    "    \n",
    "    if level<50:\n",
    "        return 1\n",
    "    if level<100:\n",
    "        return 2\n",
    "    if level<\n",
    "    "
   ]
  },
  {
   "cell_type": "code",
   "execution_count": 124,
   "metadata": {
    "scrolled": true
   },
   "outputs": [
    {
     "data": {
      "text/html": [
       "<div>\n",
       "<style scoped>\n",
       "    .dataframe tbody tr th:only-of-type {\n",
       "        vertical-align: middle;\n",
       "    }\n",
       "\n",
       "    .dataframe tbody tr th {\n",
       "        vertical-align: top;\n",
       "    }\n",
       "\n",
       "    .dataframe thead th {\n",
       "        text-align: right;\n",
       "    }\n",
       "</style>\n",
       "<table border=\"1\" class=\"dataframe\">\n",
       "  <thead>\n",
       "    <tr style=\"text-align: right;\">\n",
       "      <th></th>\n",
       "      <th>id</th>\n",
       "      <th>0</th>\n",
       "      <th>1</th>\n",
       "      <th>2</th>\n",
       "      <th>3</th>\n",
       "      <th>name</th>\n",
       "    </tr>\n",
       "  </thead>\n",
       "  <tbody>\n",
       "    <tr>\n",
       "      <th>0</th>\n",
       "      <td>25</td>\n",
       "      <td>50</td>\n",
       "      <td>100</td>\n",
       "      <td>200</td>\n",
       "      <td>200</td>\n",
       "      <td>PM10</td>\n",
       "    </tr>\n",
       "    <tr>\n",
       "      <th>1</th>\n",
       "      <td>26</td>\n",
       "      <td>25</td>\n",
       "      <td>50</td>\n",
       "      <td>100</td>\n",
       "      <td>100</td>\n",
       "      <td>PM2.5</td>\n",
       "    </tr>\n",
       "    <tr>\n",
       "      <th>2</th>\n",
       "      <td>5</td>\n",
       "      <td>100</td>\n",
       "      <td>140</td>\n",
       "      <td>180</td>\n",
       "      <td>180</td>\n",
       "      <td>O3</td>\n",
       "    </tr>\n",
       "    <tr>\n",
       "      <th>3</th>\n",
       "      <td>2</td>\n",
       "      <td>100</td>\n",
       "      <td>150</td>\n",
       "      <td>200</td>\n",
       "      <td>200</td>\n",
       "      <td>NO2</td>\n",
       "    </tr>\n",
       "    <tr>\n",
       "      <th>4</th>\n",
       "      <td>4</td>\n",
       "      <td>150</td>\n",
       "      <td>250</td>\n",
       "      <td>350</td>\n",
       "      <td>350</td>\n",
       "      <td>SO2</td>\n",
       "    </tr>\n",
       "    <tr>\n",
       "      <th>5</th>\n",
       "      <td>6</td>\n",
       "      <td>7000</td>\n",
       "      <td>15000</td>\n",
       "      <td>20000</td>\n",
       "      <td>20000</td>\n",
       "      <td>CO</td>\n",
       "    </tr>\n",
       "    <tr>\n",
       "      <th>6</th>\n",
       "      <td>45</td>\n",
       "      <td>5</td>\n",
       "      <td>10</td>\n",
       "      <td>15</td>\n",
       "      <td>15</td>\n",
       "      <td>C6H6</td>\n",
       "    </tr>\n",
       "  </tbody>\n",
       "</table>\n",
       "</div>"
      ],
      "text/plain": [
       "   id     0      1      2      3   name\n",
       "0  25    50    100    200    200   PM10\n",
       "1  26    25     50    100    100  PM2.5\n",
       "2   5   100    140    180    180     O3\n",
       "3   2   100    150    200    200    NO2\n",
       "4   4   150    250    350    350    SO2\n",
       "5   6  7000  15000  20000  20000     CO\n",
       "6  45     5     10     15     15   C6H6"
      ]
     },
     "execution_count": 124,
     "metadata": {},
     "output_type": "execute_result"
    }
   ],
   "source": [
    "sdf"
   ]
  },
  {
   "cell_type": "code",
   "execution_count": 180,
   "metadata": {},
   "outputs": [],
   "source": [
    "map_dict = {}\n",
    "\n",
    "for zaebalo in sdf.values:\n",
    "    map_dict[zaebalo[0]] = {\"name\": zaebalo[-1]}\n",
    "    map_dict[zaebalo[0]][\"thresholds\"] = [zaebalo[1],zaebalo[2],zaebalo[3]]\n",
    "    "
   ]
  },
  {
   "cell_type": "code",
   "execution_count": 181,
   "metadata": {},
   "outputs": [
    {
     "data": {
      "text/plain": [
       "{2: {'name': 'NO2', 'thresholds': [100, 150, 200]},\n",
       " 4: {'name': 'SO2', 'thresholds': [150, 250, 350]},\n",
       " 5: {'name': 'O3', 'thresholds': [100, 140, 180]},\n",
       " 6: {'name': 'CO', 'thresholds': [7000, 15000, 20000]},\n",
       " 25: {'name': 'PM10', 'thresholds': [50, 100, 200]},\n",
       " 26: {'name': 'PM2.5', 'thresholds': [25, 50, 100]},\n",
       " 45: {'name': 'C6H6', 'thresholds': [5, 10, 15]}}"
      ]
     },
     "execution_count": 181,
     "metadata": {},
     "output_type": "execute_result"
    }
   ],
   "source": [
    "map_dict"
   ]
  },
  {
   "cell_type": "code",
   "execution_count": 197,
   "metadata": {},
   "outputs": [],
   "source": [
    "import json\n",
    "\n",
    "dumped = json.dumps(map_dict)"
   ]
  },
  {
   "cell_type": "code",
   "execution_count": 203,
   "metadata": {
    "scrolled": true
   },
   "outputs": [
    {
     "name": "stdout",
     "output_type": "stream",
     "text": [
      "1\n"
     ]
    }
   ],
   "source": [
    "def get_level(pol_id, value, mapings):\n",
    "    thresh = mapings[pol_id][\"thresholds\"]\n",
    "    \n",
    "    lvl = 0\n",
    "    \n",
    "    for i in thresh:\n",
    "        if value > i:\n",
    "            print(value, i)\n",
    "            lvl+=1\n",
    "\n",
    "    return(lvl+1)\n",
    "print(get_level(45, 1, map_dict))   "
   ]
  },
  {
   "cell_type": "code",
   "execution_count": 306,
   "metadata": {
    "scrolled": true
   },
   "outputs": [
    {
     "data": {
      "text/plain": [
       "False"
      ]
     },
     "execution_count": 306,
     "metadata": {},
     "output_type": "execute_result"
    }
   ],
   "source": []
  },
  {
   "cell_type": "code",
   "execution_count": 294,
   "metadata": {},
   "outputs": [],
   "source": [
    "df[\"check_int\"] = df[1].apply(lambda x: int(x))"
   ]
  },
  {
   "cell_type": "code",
   "execution_count": 308,
   "metadata": {},
   "outputs": [
    {
     "data": {
      "text/html": [
       "<div>\n",
       "<style scoped>\n",
       "    .dataframe tbody tr th:only-of-type {\n",
       "        vertical-align: middle;\n",
       "    }\n",
       "\n",
       "    .dataframe tbody tr th {\n",
       "        vertical-align: top;\n",
       "    }\n",
       "\n",
       "    .dataframe thead th {\n",
       "        text-align: right;\n",
       "    }\n",
       "</style>\n",
       "<table border=\"1\" class=\"dataframe\">\n",
       "  <thead>\n",
       "    <tr style=\"text-align: right;\">\n",
       "      <th></th>\n",
       "      <th>0</th>\n",
       "      <th>1</th>\n",
       "      <th>2</th>\n",
       "      <th>3</th>\n",
       "      <th>4</th>\n",
       "      <th>5</th>\n",
       "      <th>6</th>\n",
       "      <th>7</th>\n",
       "      <th>8</th>\n",
       "      <th>9</th>\n",
       "      <th>check_int</th>\n",
       "    </tr>\n",
       "  </thead>\n",
       "  <tbody>\n",
       "    <tr>\n",
       "      <th>5</th>\n",
       "      <td>1</td>\n",
       "      <td>2</td>\n",
       "      <td>22.651833</td>\n",
       "      <td>2018-09-15 13:00:00</td>\n",
       "      <td>Nicosia - Traffic Station</td>\n",
       "      <td>ÎÎµÏ",
       "ÎºÏÏÎ¯Î± - ÎÏ",
       "ÎºÎ»Î¿ÏÎ¿ÏÎ¹Î±ÎºÏÏ ...</td>\n",
       "      <td>Traffic</td>\n",
       "      <td>ÎÏ",
       "ÎºÎ»Î¿ÏÎ¿ÏÎ¹Î±ÎºÏÏ</td>\n",
       "      <td>35.15192246950294</td>\n",
       "      <td>33.347919957077806</td>\n",
       "      <td>2</td>\n",
       "    </tr>\n",
       "    <tr>\n",
       "      <th>23</th>\n",
       "      <td>2</td>\n",
       "      <td>2</td>\n",
       "      <td>6.3320300000000005</td>\n",
       "      <td>2018-09-15 13:00:00</td>\n",
       "      <td>Nicosia - Residential Station</td>\n",
       "      <td>ÎÎµÏ",
       "ÎºÏÏÎ¯Î± - ÎÎ¹ÎºÎ¹ÏÏÎ¹ÎºÏÏ Î£ÏÎ±...</td>\n",
       "      <td>Urban</td>\n",
       "      <td>ÎÎ¹ÎºÎ¹ÏÏÎ¹ÎºÏÏ</td>\n",
       "      <td>35.1269444</td>\n",
       "      <td>33.33166670000003</td>\n",
       "      <td>2</td>\n",
       "    </tr>\n",
       "    <tr>\n",
       "      <th>39</th>\n",
       "      <td>3</td>\n",
       "      <td>2</td>\n",
       "      <td>13.371870000000001</td>\n",
       "      <td>2018-09-15 13:00:00</td>\n",
       "      <td>Limassol - Traffic Station</td>\n",
       "      <td>ÎÎµÎ¼ÎµÏÏÏ - ÎÏ",
       "ÎºÎ»Î¿ÏÎ¿ÏÎ¹Î±ÎºÏÏ Î£...</td>\n",
       "      <td>Traffic</td>\n",
       "      <td>ÎÏ",
       "ÎºÎ»Î¿ÏÎ¿ÏÎ¹Î±ÎºÏÏ</td>\n",
       "      <td>34.6861111</td>\n",
       "      <td>33.03555559999995</td>\n",
       "      <td>2</td>\n",
       "    </tr>\n",
       "    <tr>\n",
       "      <th>51</th>\n",
       "      <td>3</td>\n",
       "      <td>2</td>\n",
       "      <td>12.797970000000001</td>\n",
       "      <td>2018-09-15 12:00:00</td>\n",
       "      <td>Limassol - Traffic Station</td>\n",
       "      <td>ÎÎµÎ¼ÎµÏÏÏ - ÎÏ",
       "ÎºÎ»Î¿ÏÎ¿ÏÎ¹Î±ÎºÏÏ Î£...</td>\n",
       "      <td>Traffic</td>\n",
       "      <td>ÎÏ",
       "ÎºÎ»Î¿ÏÎ¿ÏÎ¹Î±ÎºÏÏ</td>\n",
       "      <td>34.6861111</td>\n",
       "      <td>33.03555559999995</td>\n",
       "      <td>2</td>\n",
       "    </tr>\n",
       "    <tr>\n",
       "      <th>56</th>\n",
       "      <td>4</td>\n",
       "      <td>2</td>\n",
       "      <td>16.853530000000003</td>\n",
       "      <td>2017-06-28 08:00:00</td>\n",
       "      <td>Limassol - Residential Station</td>\n",
       "      <td>ÎÎµÎ¼ÎµÏÏÏ - ÎÎ¹ÎºÎ¹ÏÏÎ¹ÎºÏÏ Î£ÏÎ±Î¸...</td>\n",
       "      <td>Urban</td>\n",
       "      <td>ÎÎ¹ÎºÎ¹ÏÏÎ¹ÎºÏÏ</td>\n",
       "      <td>34.6816667</td>\n",
       "      <td>33.017777799999976</td>\n",
       "      <td>2</td>\n",
       "    </tr>\n",
       "    <tr>\n",
       "      <th>66</th>\n",
       "      <td>5</td>\n",
       "      <td>2</td>\n",
       "      <td>4.924062</td>\n",
       "      <td>2018-09-15 13:00:00</td>\n",
       "      <td>Larnaca - Traffic Station</td>\n",
       "      <td>ÎÎ¬ÏÎ½Î±ÎºÎ± - ÎÏ",
       "ÎºÎ»Î¿ÏÎ¿ÏÎ¹Î±ÎºÏÏ Î£...</td>\n",
       "      <td>Traffic</td>\n",
       "      <td>ÎÏ",
       "ÎºÎ»Î¿ÏÎ¿ÏÎ¹Î±ÎºÏÏ</td>\n",
       "      <td>34.9166667</td>\n",
       "      <td>33.627500000000055</td>\n",
       "      <td>2</td>\n",
       "    </tr>\n",
       "    <tr>\n",
       "      <th>80</th>\n",
       "      <td>6</td>\n",
       "      <td>2</td>\n",
       "      <td>12.12842</td>\n",
       "      <td>2016-11-18 14:00:00</td>\n",
       "      <td>Larnaca - Residential Station</td>\n",
       "      <td>ÎÎ¬ÏÎ½Î±ÎºÎ± - ÎÎ¹ÎºÎ¹ÏÏÎ¹ÎºÏÏ Î£ÏÎ±Î¸...</td>\n",
       "      <td>Urban</td>\n",
       "      <td>ÎÎ¹ÎºÎ¹ÏÏÎ¹ÎºÏÏ</td>\n",
       "      <td>34.9136111</td>\n",
       "      <td>33.61583329999996</td>\n",
       "      <td>2</td>\n",
       "    </tr>\n",
       "    <tr>\n",
       "      <th>86</th>\n",
       "      <td>7</td>\n",
       "      <td>2</td>\n",
       "      <td>12.45363</td>\n",
       "      <td>2016-02-12 09:00:00</td>\n",
       "      <td>Paphos - Traffic Station</td>\n",
       "      <td>Î Î¬ÏÎ¿Ï - ÎÏ",
       "ÎºÎ»Î¿ÏÎ¿ÏÎ¹Î±ÎºÏÏ Î£ÏÎ±...</td>\n",
       "      <td>Traffic</td>\n",
       "      <td>ÎÏ",
       "ÎºÎ»Î¿ÏÎ¿ÏÎ¹Î±ÎºÏÏ</td>\n",
       "      <td>34.7752778</td>\n",
       "      <td>32.42194440000003</td>\n",
       "      <td>2</td>\n",
       "    </tr>\n",
       "    <tr>\n",
       "      <th>99</th>\n",
       "      <td>8</td>\n",
       "      <td>2</td>\n",
       "      <td>3.667221</td>\n",
       "      <td>2018-09-15 13:00:00</td>\n",
       "      <td>Zygi - Industrial Station</td>\n",
       "      <td>ÎÏÎ³Î¹ - ÎÎ¹Î¿Î¼Î·ÏÎ±Î½Î¹ÎºÏÏ Î£ÏÎ±Î¸Î¼...</td>\n",
       "      <td>Industrial</td>\n",
       "      <td>ÎÎ¹Î¿Î¼Î·ÏÎ±Î½Î¹ÎºÏÏ</td>\n",
       "      <td>34.7294444</td>\n",
       "      <td>33.33749999999998</td>\n",
       "      <td>2</td>\n",
       "    </tr>\n",
       "    <tr>\n",
       "      <th>117</th>\n",
       "      <td>9</td>\n",
       "      <td>2</td>\n",
       "      <td>1.74083</td>\n",
       "      <td>2018-09-15 13:00:00</td>\n",
       "      <td>Ayia Marina Xyliatou - Background Station</td>\n",
       "      <td>ÎÎ³Î¯Î± ÎÎ±ÏÎ¯Î½Î± ÎÏ",
       "Î»Î¹Î¬ÏÎ¿Ï",
       " - Î£ÏÎ...</td>\n",
       "      <td>Rural</td>\n",
       "      <td>ÎÎ³ÏÎ¿ÏÎ¹ÎºÏÏ</td>\n",
       "      <td>35.0380556</td>\n",
       "      <td>33.05777779999994</td>\n",
       "      <td>2</td>\n",
       "    </tr>\n",
       "    <tr>\n",
       "      <th>136</th>\n",
       "      <td>10</td>\n",
       "      <td>2</td>\n",
       "      <td>1.87474</td>\n",
       "      <td>2018-09-15 13:00:00</td>\n",
       "      <td>Troodos - Background Station</td>\n",
       "      <td>Î¤ÏÏÎ¿Î´Î¿Ï - Î£ÏÎ±Î¸Î¼ÏÏ Î¥ÏÎ¿Î²Î¬Î¸Ï...</td>\n",
       "      <td>Rural</td>\n",
       "      <td>ÎÎ³ÏÎ¿ÏÎ¹ÎºÏÏ</td>\n",
       "      <td>34.918964669437464</td>\n",
       "      <td>32.882763671874955</td>\n",
       "      <td>2</td>\n",
       "    </tr>\n",
       "    <tr>\n",
       "      <th>141</th>\n",
       "      <td>11</td>\n",
       "      <td>2</td>\n",
       "      <td>3.123929</td>\n",
       "      <td>2017-03-08 10:00:00</td>\n",
       "      <td>Cavo Greco - Background Station</td>\n",
       "      <td>ÎÎ¬Î²Î¿ ÎÎºÏÎ­ÎºÎ¿ - Î£ÏÎ±Î¸Î¼ÏÏ Î¥ÏÎ¿Î...</td>\n",
       "      <td>Rural</td>\n",
       "      <td>ÎÎ³ÏÎ¿ÏÎ¹ÎºÏÏ</td>\n",
       "      <td>34.9616667</td>\n",
       "      <td>34.08166670000003</td>\n",
       "      <td>2</td>\n",
       "    </tr>\n",
       "    <tr>\n",
       "      <th>151</th>\n",
       "      <td>13</td>\n",
       "      <td>2</td>\n",
       "      <td>1.964651</td>\n",
       "      <td>2016-02-02 14:00:00</td>\n",
       "      <td>Stravrovouni - Background Station</td>\n",
       "      <td>Î£ÏÎ±Ï",
       "ÏÎ¿Î²Î¿ÏÎ½Î¹ - Î£ÏÎ±Î¸Î¼ÏÏ Î¥ÏÎ¿...</td>\n",
       "      <td>Rural</td>\n",
       "      <td>ÎÎ³ÏÎ¿ÏÎ¹ÎºÏÏ</td>\n",
       "      <td>34.88334727368627</td>\n",
       "      <td>33.43788146972656</td>\n",
       "      <td>2</td>\n",
       "    </tr>\n",
       "    <tr>\n",
       "      <th>159</th>\n",
       "      <td>14</td>\n",
       "      <td>2</td>\n",
       "      <td>4.686850000000001</td>\n",
       "      <td>2018-09-14 12:00:00</td>\n",
       "      <td>Mari - Industrial Station</td>\n",
       "      <td>ÎÎ±ÏÎ¯ - ÎÎ¹Î¿Î¼Î·ÏÎ±Î½Î¹ÎºÏÏ Î£ÏÎ±Î¸Î¼...</td>\n",
       "      <td>Industrial</td>\n",
       "      <td>ÎÎ¹Î¿Î¼Î·ÏÎ±Î½Î¹ÎºÏÏ</td>\n",
       "      <td>34.74015413889849</td>\n",
       "      <td>33.30027554245612</td>\n",
       "      <td>2</td>\n",
       "    </tr>\n",
       "    <tr>\n",
       "      <th>175</th>\n",
       "      <td>15</td>\n",
       "      <td>2</td>\n",
       "      <td>1.43475</td>\n",
       "      <td>2018-09-15 13:00:00</td>\n",
       "      <td>Paphos - Traffic Station</td>\n",
       "      <td>Î Î¬ÏÎ¿Ï - ÎÏ",
       "ÎºÎ»Î¿ÏÎ¿ÏÎ¹Î±ÎºÏÏ Î£ÏÎ±...</td>\n",
       "      <td>Traffic</td>\n",
       "      <td>ÎÏ",
       "ÎºÎ»Î¿ÏÎ¿ÏÎ¹Î±ÎºÏÏ</td>\n",
       "      <td>34.772166887756256</td>\n",
       "      <td>32.418082019018584</td>\n",
       "      <td>2</td>\n",
       "    </tr>\n",
       "    <tr>\n",
       "      <th>192</th>\n",
       "      <td>16</td>\n",
       "      <td>2</td>\n",
       "      <td>18.9130658</td>\n",
       "      <td>2018-09-15 13:00:00</td>\n",
       "      <td>Paralimni - Traffic Station</td>\n",
       "      <td>Î Î±ÏÎ±Î»Î¯Î¼Î½Î¹ - ÎÏ",
       "ÎºÎ»Î¿ÏÎ¿ÏÎ¹Î±ÎºÏÏ...</td>\n",
       "      <td>Traffic</td>\n",
       "      <td>ÎÏ",
       "ÎºÎ»Î¿ÏÎ¿ÏÎ¹Î±ÎºÏÏ</td>\n",
       "      <td>35.04569276191925</td>\n",
       "      <td>33.977734884655774</td>\n",
       "      <td>2</td>\n",
       "    </tr>\n",
       "  </tbody>\n",
       "</table>\n",
       "</div>"
      ],
      "text/plain": [
       "      0  1                   2                    3  \\\n",
       "5     1  2           22.651833  2018-09-15 13:00:00   \n",
       "23    2  2  6.3320300000000005  2018-09-15 13:00:00   \n",
       "39    3  2  13.371870000000001  2018-09-15 13:00:00   \n",
       "51    3  2  12.797970000000001  2018-09-15 12:00:00   \n",
       "56    4  2  16.853530000000003  2017-06-28 08:00:00   \n",
       "66    5  2            4.924062  2018-09-15 13:00:00   \n",
       "80    6  2            12.12842  2016-11-18 14:00:00   \n",
       "86    7  2            12.45363  2016-02-12 09:00:00   \n",
       "99    8  2            3.667221  2018-09-15 13:00:00   \n",
       "117   9  2             1.74083  2018-09-15 13:00:00   \n",
       "136  10  2             1.87474  2018-09-15 13:00:00   \n",
       "141  11  2            3.123929  2017-03-08 10:00:00   \n",
       "151  13  2            1.964651  2016-02-02 14:00:00   \n",
       "159  14  2   4.686850000000001  2018-09-14 12:00:00   \n",
       "175  15  2             1.43475  2018-09-15 13:00:00   \n",
       "192  16  2          18.9130658  2018-09-15 13:00:00   \n",
       "\n",
       "                                             4  \\\n",
       "5                    Nicosia - Traffic Station   \n",
       "23               Nicosia - Residential Station   \n",
       "39                  Limassol - Traffic Station   \n",
       "51                  Limassol - Traffic Station   \n",
       "56              Limassol - Residential Station   \n",
       "66                   Larnaca - Traffic Station   \n",
       "80               Larnaca - Residential Station   \n",
       "86                    Paphos - Traffic Station   \n",
       "99                   Zygi - Industrial Station   \n",
       "117  Ayia Marina Xyliatou - Background Station   \n",
       "136               Troodos - Background Station   \n",
       "141            Cavo Greco - Background Station   \n",
       "151          Stravrovouni - Background Station   \n",
       "159                  Mari - Industrial Station   \n",
       "175                   Paphos - Traffic Station   \n",
       "192                Paralimni - Traffic Station   \n",
       "\n",
       "                                                     5           6  \\\n",
       "5    ÎÎµÏ\n",
       "ÎºÏÏÎ¯Î± - ÎÏ\n",
       "ÎºÎ»Î¿ÏÎ¿ÏÎ¹Î±ÎºÏÏ ...     Traffic   \n",
       "23   ÎÎµÏ\n",
       "ÎºÏÏÎ¯Î± - ÎÎ¹ÎºÎ¹ÏÏÎ¹ÎºÏÏ Î£ÏÎ±...       Urban   \n",
       "39   ÎÎµÎ¼ÎµÏÏÏ - ÎÏ\n",
       "ÎºÎ»Î¿ÏÎ¿ÏÎ¹Î±ÎºÏÏ Î£...     Traffic   \n",
       "51   ÎÎµÎ¼ÎµÏÏÏ - ÎÏ\n",
       "ÎºÎ»Î¿ÏÎ¿ÏÎ¹Î±ÎºÏÏ Î£...     Traffic   \n",
       "56   ÎÎµÎ¼ÎµÏÏÏ - ÎÎ¹ÎºÎ¹ÏÏÎ¹ÎºÏÏ Î£ÏÎ±Î¸...       Urban   \n",
       "66   ÎÎ¬ÏÎ½Î±ÎºÎ± - ÎÏ\n",
       "ÎºÎ»Î¿ÏÎ¿ÏÎ¹Î±ÎºÏÏ Î£...     Traffic   \n",
       "80   ÎÎ¬ÏÎ½Î±ÎºÎ± - ÎÎ¹ÎºÎ¹ÏÏÎ¹ÎºÏÏ Î£ÏÎ±Î¸...       Urban   \n",
       "86   Î Î¬ÏÎ¿Ï - ÎÏ\n",
       "ÎºÎ»Î¿ÏÎ¿ÏÎ¹Î±ÎºÏÏ Î£ÏÎ±...     Traffic   \n",
       "99   ÎÏÎ³Î¹ - ÎÎ¹Î¿Î¼Î·ÏÎ±Î½Î¹ÎºÏÏ Î£ÏÎ±Î¸Î¼...  Industrial   \n",
       "117  ÎÎ³Î¯Î± ÎÎ±ÏÎ¯Î½Î± ÎÏ\n",
       "Î»Î¹Î¬ÏÎ¿Ï\n",
       " - Î£ÏÎ...       Rural   \n",
       "136  Î¤ÏÏÎ¿Î´Î¿Ï - Î£ÏÎ±Î¸Î¼ÏÏ Î¥ÏÎ¿Î²Î¬Î¸Ï...       Rural   \n",
       "141  ÎÎ¬Î²Î¿ ÎÎºÏÎ­ÎºÎ¿ - Î£ÏÎ±Î¸Î¼ÏÏ Î¥ÏÎ¿Î...       Rural   \n",
       "151  Î£ÏÎ±Ï\n",
       "ÏÎ¿Î²Î¿ÏÎ½Î¹ - Î£ÏÎ±Î¸Î¼ÏÏ Î¥ÏÎ¿...       Rural   \n",
       "159  ÎÎ±ÏÎ¯ - ÎÎ¹Î¿Î¼Î·ÏÎ±Î½Î¹ÎºÏÏ Î£ÏÎ±Î¸Î¼...  Industrial   \n",
       "175  Î Î¬ÏÎ¿Ï - ÎÏ\n",
       "ÎºÎ»Î¿ÏÎ¿ÏÎ¹Î±ÎºÏÏ Î£ÏÎ±...     Traffic   \n",
       "192  Î Î±ÏÎ±Î»Î¯Î¼Î½Î¹ - ÎÏ\n",
       "ÎºÎ»Î¿ÏÎ¿ÏÎ¹Î±ÎºÏÏ...     Traffic   \n",
       "\n",
       "                              7                   8                   9  \\\n",
       "5    ÎÏ\n",
       "ÎºÎ»Î¿ÏÎ¿ÏÎ¹Î±ÎºÏÏ   35.15192246950294  33.347919957077806   \n",
       "23         ÎÎ¹ÎºÎ¹ÏÏÎ¹ÎºÏÏ          35.1269444   33.33166670000003   \n",
       "39   ÎÏ\n",
       "ÎºÎ»Î¿ÏÎ¿ÏÎ¹Î±ÎºÏÏ          34.6861111   33.03555559999995   \n",
       "51   ÎÏ\n",
       "ÎºÎ»Î¿ÏÎ¿ÏÎ¹Î±ÎºÏÏ          34.6861111   33.03555559999995   \n",
       "56         ÎÎ¹ÎºÎ¹ÏÏÎ¹ÎºÏÏ          34.6816667  33.017777799999976   \n",
       "66   ÎÏ\n",
       "ÎºÎ»Î¿ÏÎ¿ÏÎ¹Î±ÎºÏÏ          34.9166667  33.627500000000055   \n",
       "80         ÎÎ¹ÎºÎ¹ÏÏÎ¹ÎºÏÏ          34.9136111   33.61583329999996   \n",
       "86   ÎÏ\n",
       "ÎºÎ»Î¿ÏÎ¿ÏÎ¹Î±ÎºÏÏ          34.7752778   32.42194440000003   \n",
       "99     ÎÎ¹Î¿Î¼Î·ÏÎ±Î½Î¹ÎºÏÏ          34.7294444   33.33749999999998   \n",
       "117          ÎÎ³ÏÎ¿ÏÎ¹ÎºÏÏ          35.0380556   33.05777779999994   \n",
       "136          ÎÎ³ÏÎ¿ÏÎ¹ÎºÏÏ  34.918964669437464  32.882763671874955   \n",
       "141          ÎÎ³ÏÎ¿ÏÎ¹ÎºÏÏ          34.9616667   34.08166670000003   \n",
       "151          ÎÎ³ÏÎ¿ÏÎ¹ÎºÏÏ   34.88334727368627   33.43788146972656   \n",
       "159    ÎÎ¹Î¿Î¼Î·ÏÎ±Î½Î¹ÎºÏÏ   34.74015413889849   33.30027554245612   \n",
       "175  ÎÏ\n",
       "ÎºÎ»Î¿ÏÎ¿ÏÎ¹Î±ÎºÏÏ  34.772166887756256  32.418082019018584   \n",
       "192  ÎÏ\n",
       "ÎºÎ»Î¿ÏÎ¿ÏÎ¹Î±ÎºÏÏ   35.04569276191925  33.977734884655774   \n",
       "\n",
       "     check_int  \n",
       "5            2  \n",
       "23           2  \n",
       "39           2  \n",
       "51           2  \n",
       "56           2  \n",
       "66           2  \n",
       "80           2  \n",
       "86           2  \n",
       "99           2  \n",
       "117          2  \n",
       "136          2  \n",
       "141          2  \n",
       "151          2  \n",
       "159          2  \n",
       "175          2  \n",
       "192          2  "
      ]
     },
     "execution_count": 308,
     "metadata": {},
     "output_type": "execute_result"
    }
   ],
   "source": [
    "df.loc[df[\"check_int\"]==2]"
   ]
  }
 ],
 "metadata": {
  "kernelspec": {
   "display_name": "Python 3",
   "language": "python",
   "name": "python3"
  },
  "language_info": {
   "codemirror_mode": {
    "name": "ipython",
    "version": 3
   },
   "file_extension": ".py",
   "mimetype": "text/x-python",
   "name": "python",
   "nbconvert_exporter": "python",
   "pygments_lexer": "ipython3",
   "version": "3.6.3"
  }
 },
 "nbformat": 4,
 "nbformat_minor": 2
}
